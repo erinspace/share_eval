{
 "cells": [
  {
   "cell_type": "code",
   "execution_count": 3,
   "metadata": {
    "collapsed": false
   },
   "outputs": [],
   "source": [
    "import requests\n",
    "from lxml import etree"
   ]
  },
  {
   "cell_type": "code",
   "execution_count": 4,
   "metadata": {
    "collapsed": true
   },
   "outputs": [],
   "source": [
    "arpha = 'http://arphahub.com/about/webservices'"
   ]
  },
  {
   "cell_type": "code",
   "execution_count": 5,
   "metadata": {
    "collapsed": true
   },
   "outputs": [],
   "source": [
    "content = requests.get(arpha).content"
   ]
  },
  {
   "cell_type": "code",
   "execution_count": 6,
   "metadata": {
    "collapsed": true
   },
   "outputs": [],
   "source": [
    "parsed = etree.HTML(content)"
   ]
  },
  {
   "cell_type": "code",
   "execution_count": 22,
   "metadata": {
    "collapsed": false
   },
   "outputs": [],
   "source": [
    "uri_elements = parsed.xpath('//p[@style=\"margin-left: 40px;\"]')"
   ]
  },
  {
   "cell_type": "code",
   "execution_count": 23,
   "metadata": {
    "collapsed": false
   },
   "outputs": [],
   "source": [
    "oai_pmh_uris = []\n",
    "for uri_part in uri_elements:\n",
    "    if uri_part.text.strip() == 'OAI-PMH - oai_dc:':\n",
    "        oai_pmh_uris.append(uri_part.find('a').text)"
   ]
  },
  {
   "cell_type": "code",
   "execution_count": 24,
   "metadata": {
    "collapsed": false
   },
   "outputs": [
    {
     "data": {
      "text/plain": [
       "['http://bdj.pensoft.net/oai.php?verb=ListRecords&set=bdj&metadataPrefix=oai_dc',\n",
       " 'http://zookeys.pensoft.net/oai.php?verb=ListRecords&set=zookeys&metadataPrefix=oai_dc',\n",
       " 'http://phytokeys.pensoft.net/oai.php?verb=ListRecords&set=phytokeys&metadataPrefix=oai_dc',\n",
       " 'http://mycokeys.pensoft.net/oai.php?verb=ListRecords&set=mycokeys&metadataPrefix=oai_dc',\n",
       " 'http://biorisk.pensoft.net/oai.php?verb=ListRecords&set=biorisk&metadataPrefix=oai_dc',\n",
       " 'http://compcytogen.pensoft.net/oai.php?verb=ListRecords&set=compcytogen&metadataPrefix=oai_dc',\n",
       " 'http://ijm.pensoft.net/oai.php?verb=ListRecords&set=ijm&metadataPrefix=oai_dc',\n",
       " 'http://jhr.pensoft.net/oai.php?verb=ListRecords&set=jhr&metadataPrefix=oai_dc',\n",
       " 'http://natureconservation.pensoft.net/oai.php?verb=ListRecords&set=natureconservation&metadataPrefix=oai_dc',\n",
       " 'http://neobiota.pensoft.net/oai.php?verb=ListRecords&set=neobiota&metadataPrefix=oai_dc',\n",
       " 'http://subtbiol.pensoft.net/oai.php?verb=ListRecords&set=subtbiol&metadataPrefix=oai_dc',\n",
       " 'http://dez.pensoft.net/oai.php?verb=ListRecords&set=dez&metadataPrefix=oai_dc',\n",
       " 'http://zse.pensoft.net/oai.php?verb=ListRecords&set=zse&metadataPrefix=oai_dc']"
      ]
     },
     "execution_count": 24,
     "metadata": {},
     "output_type": "execute_result"
    }
   ],
   "source": [
    "oai_pmh_uris"
   ]
  },
  {
   "cell_type": "code",
   "execution_count": null,
   "metadata": {
    "collapsed": true
   },
   "outputs": [],
   "source": [
    "journal_names = parsed.xpath('//p/strong/text()')"
   ]
  }
 ],
 "metadata": {
  "kernelspec": {
   "display_name": "Python 2",
   "language": "python",
   "name": "python2"
  },
  "language_info": {
   "codemirror_mode": {
    "name": "ipython",
    "version": 2
   },
   "file_extension": ".py",
   "mimetype": "text/x-python",
   "name": "python",
   "nbconvert_exporter": "python",
   "pygments_lexer": "ipython2",
   "version": "2.7.9"
  }
 },
 "nbformat": 4,
 "nbformat_minor": 0
}
