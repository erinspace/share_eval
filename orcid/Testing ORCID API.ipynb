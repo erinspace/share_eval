{
 "cells": [
  {
   "cell_type": "markdown",
   "metadata": {},
   "source": [
    "# Using the ORCID API for SHARE\n",
    "\n",
    "Search API Docs -- http://members.orcid.org/api/tutorial-searching-api-12-and-earlier"
   ]
  },
  {
   "cell_type": "code",
   "execution_count": 9,
   "metadata": {
    "collapsed": true
   },
   "outputs": [],
   "source": [
    "import json\n",
    "import sharepa\n",
    "import requests\n",
    "from lxml import etree"
   ]
  },
  {
   "cell_type": "code",
   "execution_count": 46,
   "metadata": {
    "collapsed": true
   },
   "outputs": [],
   "source": [
    "search_base = 'http://pub.orcid.org/v1.2/search/orcid-bio?q=' "
   ]
  },
  {
   "cell_type": "markdown",
   "metadata": {},
   "source": [
    "## ORCID API and pumbed identifiers!"
   ]
  },
  {
   "cell_type": "code",
   "execution_count": 7,
   "metadata": {
    "collapsed": true
   },
   "outputs": [],
   "source": [
    "pubmed_results = 'https://osf.io/api/v1/share/search/?q=shareProperties.source:pubmedcentral&sort=providerUpdatedDateTime'"
   ]
  },
  {
   "cell_type": "code",
   "execution_count": 47,
   "metadata": {
    "collapsed": false
   },
   "outputs": [],
   "source": [
    "pmid_search = search_base + 'pmid:' "
   ]
  },
  {
   "cell_type": "code",
   "execution_count": 48,
   "metadata": {
    "collapsed": true
   },
   "outputs": [],
   "source": [
    "all_results = requests.get(pubmed_results).json()['results']"
   ]
  },
  {
   "cell_type": "code",
   "execution_count": 49,
   "metadata": {
    "collapsed": false
   },
   "outputs": [],
   "source": [
    "pubmed_ids = []\n",
    "for result in all_results:\n",
    "    for prop in result['otherProperties']:\n",
    "        if prop['name'] == 'identifier':\n",
    "            for identifier in prop['properties']['identifier']:\n",
    "                if 'nih.gov/pubmed/' in identifier:\n",
    "                    pubmed_ids.append(identifier.replace('http://www.ncbi.nlm.nih.gov/pubmed/', ''))"
   ]
  },
  {
   "cell_type": "code",
   "execution_count": 50,
   "metadata": {
    "collapsed": false
   },
   "outputs": [
    {
     "data": {
      "text/plain": [
       "[u'23489253',\n",
       " u'24003244',\n",
       " u'23289887',\n",
       " u'23496760',\n",
       " u'24003243',\n",
       " u'22977051',\n",
       " u'24003211',\n",
       " u'22977043',\n",
       " u'23551949',\n",
       " u'23989149']"
      ]
     },
     "execution_count": 50,
     "metadata": {},
     "output_type": "execute_result"
    }
   ],
   "source": [
    "pubmed_ids"
   ]
  },
  {
   "cell_type": "code",
   "execution_count": 51,
   "metadata": {
    "collapsed": false
   },
   "outputs": [],
   "source": [
    "all_results = []\n",
    "\n",
    "for identifier in pubmed_ids:\n",
    "    resp = requests.get(pmid_search + identifier, headers={'Accept': 'application/orcid+json'}).json()\n",
    "    all_results.append(resp)"
   ]
  },
  {
   "cell_type": "code",
   "execution_count": 52,
   "metadata": {
    "collapsed": false
   },
   "outputs": [
    {
     "data": {
      "text/plain": [
       "[{u'error-desc': None,\n",
       "  u'message-version': u'1.2',\n",
       "  u'orcid-profile': None,\n",
       "  u'orcid-search-results': {u'num-found': 0, u'orcid-search-result': []}},\n",
       " {u'error-desc': None,\n",
       "  u'message-version': u'1.2',\n",
       "  u'orcid-profile': None,\n",
       "  u'orcid-search-results': {u'num-found': 0, u'orcid-search-result': []}},\n",
       " {u'error-desc': None,\n",
       "  u'message-version': u'1.2',\n",
       "  u'orcid-profile': None,\n",
       "  u'orcid-search-results': {u'num-found': 0, u'orcid-search-result': []}},\n",
       " {u'error-desc': None,\n",
       "  u'message-version': u'1.2',\n",
       "  u'orcid-profile': None,\n",
       "  u'orcid-search-results': {u'num-found': 0, u'orcid-search-result': []}},\n",
       " {u'error-desc': None,\n",
       "  u'message-version': u'1.2',\n",
       "  u'orcid-profile': None,\n",
       "  u'orcid-search-results': {u'num-found': 0, u'orcid-search-result': []}},\n",
       " {u'error-desc': None,\n",
       "  u'message-version': u'1.2',\n",
       "  u'orcid-profile': None,\n",
       "  u'orcid-search-results': {u'num-found': 0, u'orcid-search-result': []}},\n",
       " {u'error-desc': None,\n",
       "  u'message-version': u'1.2',\n",
       "  u'orcid-profile': None,\n",
       "  u'orcid-search-results': {u'num-found': 0, u'orcid-search-result': []}},\n",
       " {u'error-desc': None,\n",
       "  u'message-version': u'1.2',\n",
       "  u'orcid-profile': None,\n",
       "  u'orcid-search-results': {u'num-found': 0, u'orcid-search-result': []}},\n",
       " {u'error-desc': None,\n",
       "  u'message-version': u'1.2',\n",
       "  u'orcid-profile': None,\n",
       "  u'orcid-search-results': {u'num-found': 0, u'orcid-search-result': []}},\n",
       " {u'error-desc': None,\n",
       "  u'message-version': u'1.2',\n",
       "  u'orcid-profile': None,\n",
       "  u'orcid-search-results': {u'num-found': 0, u'orcid-search-result': []}}]"
      ]
     },
     "execution_count": 52,
     "metadata": {},
     "output_type": "execute_result"
    }
   ],
   "source": [
    "all_results"
   ]
  },
  {
   "cell_type": "markdown",
   "metadata": {},
   "source": [
    "## ORCID API and searching by Email!"
   ]
  },
  {
   "cell_type": "code",
   "execution_count": 39,
   "metadata": {
    "collapsed": true
   },
   "outputs": [],
   "source": [
    "sources_with_email ='https://osf.io/api/v1/share/search/?q=contributors.email:*&sort=providerUpdatedDateTime'"
   ]
  },
  {
   "cell_type": "code",
   "execution_count": 40,
   "metadata": {
    "collapsed": true
   },
   "outputs": [],
   "source": [
    "email_results = requests.get(sources_with_email).json()['results']"
   ]
  },
  {
   "cell_type": "code",
   "execution_count": 42,
   "metadata": {
    "collapsed": false
   },
   "outputs": [],
   "source": [
    "all_emails = []\n",
    "for result in email_results:\n",
    "    for person in result['contributors']:\n",
    "        if person.get('email'):\n",
    "            all_emails.append(person['email'])"
   ]
  },
  {
   "cell_type": "code",
   "execution_count": 43,
   "metadata": {
    "collapsed": false
   },
   "outputs": [
    {
     "data": {
      "text/plain": [
       "[u'manuela.kruger@ibot.cas.cz',\n",
       " u'cline.laurenc@gmail.com',\n",
       " u'smeti@marine.aegean.gr',\n",
       " u'cline.laurenc@gmail.com',\n",
       " u'rburton@ucsd.edu',\n",
       " u'swenson@umd.edu',\n",
       " u'sluepold@gmail.com',\n",
       " u'meredith@csp-inc.org',\n",
       " u'makitsimple@gmail.com',\n",
       " u'alexandergamisch@gmx.at']"
      ]
     },
     "execution_count": 43,
     "metadata": {},
     "output_type": "execute_result"
    }
   ],
   "source": [
    "all_emails"
   ]
  },
  {
   "cell_type": "code",
   "execution_count": 54,
   "metadata": {
    "collapsed": false
   },
   "outputs": [],
   "source": [
    "email_search = search_base + 'email:'"
   ]
  },
  {
   "cell_type": "code",
   "execution_count": 56,
   "metadata": {
    "collapsed": false
   },
   "outputs": [],
   "source": [
    "email_results = []\n",
    "for email in all_emails:\n",
    "    email_results.append(requests.get(email_search + email, headers={'Accept': 'application/orcid+json'}).json())\n",
    "    "
   ]
  },
  {
   "cell_type": "code",
   "execution_count": 57,
   "metadata": {
    "collapsed": false
   },
   "outputs": [
    {
     "data": {
      "text/plain": [
       "[{u'error-desc': None,\n",
       "  u'message-version': u'1.2',\n",
       "  u'orcid-profile': None,\n",
       "  u'orcid-search-results': {u'num-found': 0, u'orcid-search-result': []}},\n",
       " {u'error-desc': None,\n",
       "  u'message-version': u'1.2',\n",
       "  u'orcid-profile': None,\n",
       "  u'orcid-search-results': {u'num-found': 0, u'orcid-search-result': []}},\n",
       " {u'error-desc': None,\n",
       "  u'message-version': u'1.2',\n",
       "  u'orcid-profile': None,\n",
       "  u'orcid-search-results': {u'num-found': 0, u'orcid-search-result': []}},\n",
       " {u'error-desc': None,\n",
       "  u'message-version': u'1.2',\n",
       "  u'orcid-profile': None,\n",
       "  u'orcid-search-results': {u'num-found': 0, u'orcid-search-result': []}},\n",
       " {u'error-desc': None,\n",
       "  u'message-version': u'1.2',\n",
       "  u'orcid-profile': None,\n",
       "  u'orcid-search-results': {u'num-found': 0, u'orcid-search-result': []}},\n",
       " {u'error-desc': None,\n",
       "  u'message-version': u'1.2',\n",
       "  u'orcid-profile': None,\n",
       "  u'orcid-search-results': {u'num-found': 0, u'orcid-search-result': []}},\n",
       " {u'error-desc': None,\n",
       "  u'message-version': u'1.2',\n",
       "  u'orcid-profile': None,\n",
       "  u'orcid-search-results': {u'num-found': 0, u'orcid-search-result': []}},\n",
       " {u'error-desc': None,\n",
       "  u'message-version': u'1.2',\n",
       "  u'orcid-profile': None,\n",
       "  u'orcid-search-results': {u'num-found': 0, u'orcid-search-result': []}},\n",
       " {u'error-desc': None,\n",
       "  u'message-version': u'1.2',\n",
       "  u'orcid-profile': None,\n",
       "  u'orcid-search-results': {u'num-found': 0, u'orcid-search-result': []}},\n",
       " {u'error-desc': None,\n",
       "  u'message-version': u'1.2',\n",
       "  u'orcid-profile': None,\n",
       "  u'orcid-search-results': {u'num-found': 0, u'orcid-search-result': []}}]"
      ]
     },
     "execution_count": 57,
     "metadata": {},
     "output_type": "execute_result"
    }
   ],
   "source": [
    "email_results"
   ]
  },
  {
   "cell_type": "code",
   "execution_count": null,
   "metadata": {
    "collapsed": true
   },
   "outputs": [],
   "source": []
  }
 ],
 "metadata": {
  "kernelspec": {
   "display_name": "Python 2",
   "language": "python",
   "name": "python2"
  },
  "language_info": {
   "codemirror_mode": {
    "name": "ipython",
    "version": 2
   },
   "file_extension": ".py",
   "mimetype": "text/x-python",
   "name": "python",
   "nbconvert_exporter": "python",
   "pygments_lexer": "ipython2",
   "version": "2.7.9"
  }
 },
 "nbformat": 4,
 "nbformat_minor": 0
}
